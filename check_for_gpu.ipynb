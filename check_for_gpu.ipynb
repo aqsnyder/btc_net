{
 "cells": [
  {
   "cell_type": "code",
   "execution_count": 3,
   "metadata": {},
   "outputs": [
    {
     "name": "stdout",
     "output_type": "stream",
     "text": [
      "True\n",
      "NVIDIA GeForce RTX 3060\n",
      "CUDA Available: True\n",
      "Number of GPUs: 1\n",
      "Tensor on GPU:\n",
      "tensor([[-0.4351, -0.0117, -2.1505],\n",
      "        [ 0.7438,  1.6536,  1.1794],\n",
      "        [ 1.8717,  0.8801, -1.4251]], device='cuda:0')\n"
     ]
    }
   ],
   "source": [
    "import torch\n",
    "print(torch.cuda.is_available())  # Should print True\n",
    "print(torch.cuda.get_device_name(0))  # Should print the name of your GPU\n",
    "# Check if CUDA is available\n",
    "print(\"CUDA Available:\", torch.cuda.is_available())\n",
    "\n",
    "# List all available GPUs\n",
    "num_gpus = torch.cuda.device_count()\n",
    "print(f\"Number of GPUs: {num_gpus}\")\n",
    "\n",
    "\n",
    "# Perform a simple operation on the GPU\n",
    "if torch.cuda.is_available():\n",
    "    device = torch.device(\"cuda\")\n",
    "    tensor = torch.randn((3, 3)).to(device)\n",
    "    print(\"Tensor on GPU:\")\n",
    "    print(tensor)\n"
   ]
  }
 ],
 "metadata": {
  "kernelspec": {
   "display_name": "snyder_github-b823u2lJ",
   "language": "python",
   "name": "python3"
  },
  "language_info": {
   "codemirror_mode": {
    "name": "ipython",
    "version": 3
   },
   "file_extension": ".py",
   "mimetype": "text/x-python",
   "name": "python",
   "nbconvert_exporter": "python",
   "pygments_lexer": "ipython3",
   "version": "3.9.7"
  }
 },
 "nbformat": 4,
 "nbformat_minor": 2
}
