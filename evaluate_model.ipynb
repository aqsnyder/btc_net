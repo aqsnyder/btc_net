{
 "cells": [
  {
   "cell_type": "code",
   "execution_count": 5,
   "metadata": {},
   "outputs": [
    {
     "name": "stderr",
     "output_type": "stream",
     "text": [
      "c:\\Users\\AaronSnyder\\.virtualenvs\\snyder_github-b823u2lJ\\lib\\site-packages\\ipykernel_launcher.py:42: UserWarning: Creating a tensor from a list of numpy.ndarrays is extremely slow. Please consider converting the list to a single numpy.ndarray with numpy.array() before converting to a tensor. (Triggered internally at C:\\actions-runner\\_work\\pytorch\\pytorch\\builder\\windows\\pytorch\\torch\\csrc\\utils\\tensor_new.cpp:233.)\n"
     ]
    },
    {
     "name": "stdout",
     "output_type": "stream",
     "text": [
      "Test Loss: 0.0190, Test MAPE: 19.5537%\n"
     ]
    }
   ],
   "source": [
    "import torch\n",
    "import torch.nn as nn\n",
    "import pandas as pd\n",
    "from sklearn.preprocessing import MinMaxScaler\n",
    "\n",
    "# Load the model class definition\n",
    "class LSTMModel(nn.Module):\n",
    "    def __init__(self, input_size, hidden_layer_size, output_size):\n",
    "        super(LSTMModel, self).__init__()\n",
    "        self.hidden_layer_size = hidden_layer_size\n",
    "        self.lstm = nn.LSTM(input_size, hidden_layer_size, num_layers=2, batch_first=True)\n",
    "        self.linear = nn.Linear(hidden_layer_size, output_size)\n",
    "        self.hidden_cell = (torch.zeros(2, 1, self.hidden_layer_size),\n",
    "                            torch.zeros(2, 1, self.hidden_layer_size))\n",
    "\n",
    "    def forward(self, input_seq):\n",
    "        lstm_out, self.hidden_cell = self.lstm(input_seq, self.hidden_cell)\n",
    "        predictions = self.linear(lstm_out[:, -1])\n",
    "        return predictions\n",
    "\n",
    "# Load data from CSV files\n",
    "btc_data_daily = pd.read_csv('btc_data_daily.csv', index_col='time', parse_dates=True)\n",
    "\n",
    "# Filter numeric columns only\n",
    "numeric_cols = ['close', 'high', 'low', 'open', 'volumefrom', 'volumeto']\n",
    "btc_data_daily = btc_data_daily[numeric_cols]\n",
    "\n",
    "# Handle missing values by forward filling\n",
    "btc_data_daily.fillna(method='ffill', inplace=True)\n",
    "\n",
    "# Normalize the data\n",
    "scaler = MinMaxScaler()\n",
    "btc_data_daily_scaled = scaler.fit_transform(btc_data_daily)\n",
    "btc_data_daily_scaled = pd.DataFrame(btc_data_daily_scaled, columns=btc_data_daily.columns, index=btc_data_daily.index)\n",
    "\n",
    "# Prepare data for evaluation\n",
    "def prepare_data(data, time_steps):\n",
    "    X, y = [], []\n",
    "    for i in range(len(data) - time_steps):\n",
    "        X.append(data[i:i + time_steps])\n",
    "        y.append(data[i + time_steps, 0])  # Extract only the closing price for the target\n",
    "    return torch.tensor(X, dtype=torch.float32), torch.tensor(y, dtype=torch.float32).unsqueeze(1)\n",
    "\n",
    "# Split data into training and testing sets (80-20 split)\n",
    "time_steps = 60  # Use last 60 days for prediction\n",
    "train_size = int(len(btc_data_daily_scaled) * 0.8)\n",
    "test_size = len(btc_data_daily_scaled) - train_size\n",
    "train_data, test_data = btc_data_daily_scaled[:train_size], btc_data_daily_scaled[train_size:]\n",
    "\n",
    "X_test, y_test = prepare_data(test_data.values, time_steps)  # Convert to NumPy array\n",
    "\n",
    "# Load the model\n",
    "input_size = X_test.shape[2]\n",
    "hidden_layer_size = 100  # Same as defined during training\n",
    "output_size = 1\n",
    "model = LSTMModel(input_size, hidden_layer_size, output_size)\n",
    "model.load_state_dict(torch.load('btc_trading_model.pth'))\n",
    "model.eval()\n",
    "\n",
    "# Define loss function and MAPE\n",
    "loss_function = nn.MSELoss()\n",
    "\n",
    "def mape(y_true, y_pred):\n",
    "    return torch.mean(torch.abs((y_true - y_pred) / y_true)) * 100\n",
    "\n",
    "# Evaluate the model\n",
    "total_loss = 0\n",
    "total_mape = 0\n",
    "\n",
    "with torch.no_grad():\n",
    "    for i in range(len(X_test)):\n",
    "        model.hidden_cell = (torch.zeros(2, 1, model.hidden_layer_size),\n",
    "                             torch.zeros(2, 1, model.hidden_layer_size))\n",
    "        y_pred = model(X_test[i].unsqueeze(0))\n",
    "        y_target = y_test[i].view_as(y_pred)  # Match the shape of y_pred\n",
    "        single_loss = loss_function(y_pred, y_target)\n",
    "        total_loss += single_loss.item()\n",
    "        total_mape += mape(y_target, y_pred).item()\n",
    "\n",
    "avg_loss = total_loss / len(X_test)\n",
    "avg_mape = total_mape / len(X_test)\n",
    "print(f'Test Loss: {avg_loss:.4f}, Test MAPE: {avg_mape:.4f}%')\n"
   ]
  }
 ],
 "metadata": {
  "kernelspec": {
   "display_name": "snyder_github-b823u2lJ",
   "language": "python",
   "name": "python3"
  },
  "language_info": {
   "codemirror_mode": {
    "name": "ipython",
    "version": 3
   },
   "file_extension": ".py",
   "mimetype": "text/x-python",
   "name": "python",
   "nbconvert_exporter": "python",
   "pygments_lexer": "ipython3",
   "version": "3.7.9"
  }
 },
 "nbformat": 4,
 "nbformat_minor": 2
}
