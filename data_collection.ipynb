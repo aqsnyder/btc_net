{
 "cells": [
  {
   "cell_type": "code",
   "execution_count": 6,
   "metadata": {},
   "outputs": [],
   "source": [
    "import cryptocompare\n",
    "import pandas as pd\n",
    "from datetime import datetime, timedelta\n",
    "\n",
    "# Function to fetch historical data from CryptoCompare\n",
    "def fetch_crypto_data(interval, start, end):\n",
    "    if interval == 'day':\n",
    "        data = cryptocompare.get_historical_price_day('BTC', currency='USD', toTs=end, limit=2000)\n",
    "    elif interval == 'hour':\n",
    "        data = cryptocompare.get_historical_price_hour('BTC', currency='USD', toTs=end, limit=2000)\n",
    "    elif interval == 'minute':\n",
    "        data = cryptocompare.get_historical_price_minute('BTC', currency='USD', toTs=end, limit=2000)\n",
    "    return data\n",
    "\n",
    "# Convert timestamp to datetime\n",
    "def convert_to_dataframe(data):\n",
    "    df = pd.DataFrame(data)\n",
    "    df['time'] = pd.to_datetime(df['time'], unit='s')\n",
    "    return df.set_index('time')\n",
    "\n",
    "# Define date range\n",
    "end_date = datetime.now()\n",
    "start_date = end_date - timedelta(days=3650)  # 10 years of data\n",
    "\n",
    "# Fetch data\n",
    "btc_data_daily = fetch_crypto_data('day', start_date, end_date)\n",
    "btc_data_hourly = fetch_crypto_data('hour', start_date, end_date)\n",
    "btc_data_minutely = fetch_crypto_data('minute', start_date, end_date)\n",
    "\n",
    "# Convert to DataFrame\n",
    "btc_data_daily = convert_to_dataframe(btc_data_daily)\n",
    "btc_data_hourly = convert_to_dataframe(btc_data_hourly)\n",
    "btc_data_minutely = convert_to_dataframe(btc_data_minutely)\n",
    "\n",
    "# Save data to CSV files\n",
    "btc_data_daily.to_csv('btc_data_daily.csv')\n",
    "btc_data_hourly.to_csv('btc_data_hourly.csv')\n",
    "btc_data_minutely.to_csv('btc_data_minutely.csv')\n"
   ]
  }
 ],
 "metadata": {
  "kernelspec": {
   "display_name": "snyder_github-b823u2lJ",
   "language": "python",
   "name": "python3"
  },
  "language_info": {
   "codemirror_mode": {
    "name": "ipython",
    "version": 3
   },
   "file_extension": ".py",
   "mimetype": "text/x-python",
   "name": "python",
   "nbconvert_exporter": "python",
   "pygments_lexer": "ipython3",
   "version": "3.7.9"
  }
 },
 "nbformat": 4,
 "nbformat_minor": 2
}
