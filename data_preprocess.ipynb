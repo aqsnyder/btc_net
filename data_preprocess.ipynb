{
 "cells": [
  {
   "cell_type": "code",
   "execution_count": 4,
   "metadata": {},
   "outputs": [
    {
     "name": "stdout",
     "output_type": "stream",
     "text": [
      "Daily data columns: Index(['high', 'low', 'open', 'volumefrom', 'volumeto', 'close',\n",
      "       'conversionType', 'conversionSymbol'],\n",
      "      dtype='object')\n",
      "Hourly data columns: Index(['high', 'low', 'open', 'volumefrom', 'volumeto', 'close',\n",
      "       'conversionType', 'conversionSymbol'],\n",
      "      dtype='object')\n",
      "Minutely data columns: Index(['high', 'low', 'open', 'volumefrom', 'volumeto', 'close',\n",
      "       'conversionType', 'conversionSymbol'],\n",
      "      dtype='object')\n",
      "Daily data shape: (2001, 6)\n",
      "Hourly data shape: (2001, 6)\n",
      "Minutely data shape: (2001, 6)\n"
     ]
    }
   ],
   "source": [
    "import pandas as pd\n",
    "from sklearn.preprocessing import MinMaxScaler\n",
    "\n",
    "# Load data from CSV files\n",
    "btc_data_daily = pd.read_csv('btc_data_daily.csv', index_col='time', parse_dates=True)\n",
    "btc_data_hourly = pd.read_csv('btc_data_hourly.csv', index_col='time', parse_dates=True)\n",
    "btc_data_minutely = pd.read_csv('btc_data_minutely.csv', index_col='time', parse_dates=True)\n",
    "\n",
    "# Inspect the columns of the data\n",
    "print(\"Daily data columns:\", btc_data_daily.columns)\n",
    "print(\"Hourly data columns:\", btc_data_hourly.columns)\n",
    "print(\"Minutely data columns:\", btc_data_minutely.columns)\n",
    "\n",
    "# Filter numeric columns only\n",
    "numeric_cols = ['close', 'high', 'low', 'open', 'volumefrom', 'volumeto']\n",
    "\n",
    "btc_data_daily = btc_data_daily[numeric_cols]\n",
    "btc_data_hourly = btc_data_hourly[numeric_cols]\n",
    "btc_data_minutely = btc_data_minutely[numeric_cols]\n",
    "\n",
    "# Print the shape of the data to ensure it is loaded\n",
    "print(\"Daily data shape:\", btc_data_daily.shape)\n",
    "print(\"Hourly data shape:\", btc_data_hourly.shape)\n",
    "print(\"Minutely data shape:\", btc_data_minutely.shape)\n",
    "\n",
    "# Handle missing values by forward filling\n",
    "btc_data_daily.fillna(method='ffill', inplace=True)\n",
    "btc_data_hourly.fillna(method='ffill', inplace=True)\n",
    "btc_data_minutely.fillna(method='ffill', inplace=True)\n",
    "\n",
    "# Normalize the data if it is not empty\n",
    "scaler = MinMaxScaler()\n",
    "if not btc_data_daily.empty:\n",
    "    btc_data_daily_scaled = scaler.fit_transform(btc_data_daily)\n",
    "    btc_data_daily_scaled = pd.DataFrame(btc_data_daily_scaled, columns=btc_data_daily.columns, index=btc_data_daily.index)\n",
    "else:\n",
    "    print(\"Daily data is empty after preprocessing.\")\n",
    "\n",
    "if not btc_data_hourly.empty:\n",
    "    btc_data_hourly_scaled = scaler.fit_transform(btc_data_hourly)\n",
    "    btc_data_hourly_scaled = pd.DataFrame(btc_data_hourly_scaled, columns=btc_data_hourly.columns, index=btc_data_hourly.index)\n",
    "else:\n",
    "    print(\"Hourly data is empty after preprocessing.\")\n",
    "\n",
    "if not btc_data_minutely.empty:\n",
    "    btc_data_minutely_scaled = scaler.fit_transform(btc_data_minutely)\n",
    "    btc_data_minutely_scaled = pd.DataFrame(btc_data_minutely_scaled, columns=btc_data_minutely.columns, index=btc_data_minutely.index)\n",
    "else:\n",
    "    print(\"Minutely data is empty after preprocessing.\")\n"
   ]
  }
 ],
 "metadata": {
  "kernelspec": {
   "display_name": "snyder_github-b823u2lJ",
   "language": "python",
   "name": "python3"
  },
  "language_info": {
   "codemirror_mode": {
    "name": "ipython",
    "version": 3
   },
   "file_extension": ".py",
   "mimetype": "text/x-python",
   "name": "python",
   "nbconvert_exporter": "python",
   "pygments_lexer": "ipython3",
   "version": "3.7.9"
  }
 },
 "nbformat": 4,
 "nbformat_minor": 2
}
